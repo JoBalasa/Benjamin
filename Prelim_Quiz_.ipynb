{
  "nbformat": 4,
  "nbformat_minor": 0,
  "metadata": {
    "colab": {
      "provenance": [],
      "authorship_tag": "ABX9TyPFzbS7nHevQQAR1wKyIYpt",
      "include_colab_link": true
    },
    "kernelspec": {
      "name": "python3",
      "display_name": "Python 3"
    },
    "language_info": {
      "name": "python"
    }
  },
  "cells": [
    {
      "cell_type": "markdown",
      "metadata": {
        "id": "view-in-github",
        "colab_type": "text"
      },
      "source": [
        "<a href=\"https://colab.research.google.com/github/JoBalasa/CPE009-OOP/blob/main/Prelim_Quiz_.ipynb\" target=\"_parent\"><img src=\"https://colab.research.google.com/assets/colab-badge.svg\" alt=\"Open In Colab\"/></a>"
      ]
    },
    {
      "cell_type": "code",
      "source": [
        " n = 20\n",
        "totalnumbers = n\n",
        "sum = 0\n",
        "\n",
        "while n>0:\n",
        "  sum+=n\n",
        "  n-=1\n",
        "\n",
        "average = sum/totalnumbers\n",
        "\n",
        "print(\"Sum of is:\",sum)\n",
        "print(\"Average of is:\",average)\n"
      ],
      "metadata": {
        "colab": {
          "base_uri": "https://localhost:8080/"
        },
        "id": "iLARKAFLbn7e",
        "outputId": "88708bfb-af2b-47a1-812a-becad2071740"
      },
      "execution_count": null,
      "outputs": [
        {
          "output_type": "stream",
          "name": "stdout",
          "text": [
            "Sum of is: 210\n",
            "Average of is: 10.5\n"
          ]
        }
      ]
    }
  ]
}