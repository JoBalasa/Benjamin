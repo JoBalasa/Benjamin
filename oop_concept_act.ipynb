{
  "nbformat": 4,
  "nbformat_minor": 0,
  "metadata": {
    "colab": {
      "provenance": [],
      "authorship_tag": "ABX9TyOpU168en1oZELtQ77yHMXs",
      "include_colab_link": true
    },
    "kernelspec": {
      "name": "python3",
      "display_name": "Python 3"
    },
    "language_info": {
      "name": "python"
    }
  },
  "cells": [
    {
      "cell_type": "markdown",
      "metadata": {
        "id": "view-in-github",
        "colab_type": "text"
      },
      "source": [
        "<a href=\"https://colab.research.google.com/github/JoBalasa/CPE009-OOP/blob/main/oop_concept_act.ipynb\" target=\"_parent\"><img src=\"https://colab.research.google.com/assets/colab-badge.svg\" alt=\"Open In Colab\"/></a>"
      ]
    },
    {
      "cell_type": "code",
      "execution_count": 11,
      "metadata": {
        "colab": {
          "base_uri": "https://localhost:8080/"
        },
        "id": "s6BrUf0RtcES",
        "outputId": "66903a7c-7fb8-4a52-ef80-becf9b13ca15"
      },
      "outputs": [
        {
          "output_type": "stream",
          "name": "stdout",
          "text": [
            "Circle's sides are 1\n",
            "Triangle's sides are 3\n",
            "Square's sides are 4\n",
            "Pentagon's sides are 5\n",
            "Hexagon's sides are 6\n"
          ]
        }
      ],
      "source": [
        "    class Shapes:\n",
        "      def __init__(self,name,sides):\n",
        "        self.__name = name\n",
        "        self.__sides = sides\n",
        "\n",
        "      def numOfsides(self):\n",
        "        print(f\"{self.__name}'s sides are {self.__sides}\")\n",
        "\n",
        "    class Shape1(Shapes):\n",
        "      pass\n",
        "    class Shape2(Shapes):\n",
        "      pass\n",
        "    class Shape3(Shapes):\n",
        "      pass\n",
        "    class Shape4(Shapes):\n",
        "      pass\n",
        "    class Shape5(Shapes):\n",
        "      pass\n",
        "\n",
        "    shape1 = Shape1(\"Circle\",1)\n",
        "    shape2 = Shape2(\"Triangle\",3)\n",
        "    shape3 = Shape3(\"Square\",4)\n",
        "    shape4 = Shape4(\"Pentagon\",5)\n",
        "    shape5 = Shape5(\"Hexagon\",6)\n",
        "\n",
        "    shape1.numOfsides()\n",
        "    shape2.numOfsides()\n",
        "    shape3.numOfsides()\n",
        "    shape4.numOfsides()\n",
        "    shape5.numOfsides()\n",
        "\n",
        "\n",
        "\n"
      ]
    }
  ]
}