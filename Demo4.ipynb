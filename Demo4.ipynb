{
  "nbformat": 4,
  "nbformat_minor": 0,
  "metadata": {
    "colab": {
      "provenance": [],
      "authorship_tag": "ABX9TyPIbotWzmSr4SIDbN/8KNPJ",
      "include_colab_link": true
    },
    "kernelspec": {
      "name": "python3",
      "display_name": "Python 3"
    },
    "language_info": {
      "name": "python"
    }
  },
  "cells": [
    {
      "cell_type": "markdown",
      "metadata": {
        "id": "view-in-github",
        "colab_type": "text"
      },
      "source": [
        "<a href=\"https://colab.research.google.com/github/JoBalasa/CPE009-OOP/blob/main/Demo4.ipynb\" target=\"_parent\"><img src=\"https://colab.research.google.com/assets/colab-badge.svg\" alt=\"Open In Colab\"/></a>"
      ]
    },
    {
      "cell_type": "markdown",
      "source": [
        "Operations and Expressions in Python\n",
        "\n",
        "     - bool() functions allows you tro evaluate any value, and give you true or false in return."
      ],
      "metadata": {
        "id": "oUNry9aDcFSy"
      }
    },
    {
      "cell_type": "code",
      "execution_count": null,
      "metadata": {
        "colab": {
          "base_uri": "https://localhost:8080/"
        },
        "id": "_j61Ok5XYSSF",
        "outputId": "28f674b5-bf3a-486b-a05c-09f309f00013"
      },
      "outputs": [
        {
          "output_type": "stream",
          "name": "stdout",
          "text": [
            "True\n",
            "True\n"
          ]
        }
      ],
      "source": [
        "print(bool(\"Hello\"))\n",
        "print(bool(15))\n"
      ]
    },
    {
      "cell_type": "markdown",
      "source": [
        "- Almost any value is evaluated to True is has some sort of context except for empty space/set."
      ],
      "metadata": {
        "id": "P4mOFRGacdqn"
      }
    },
    {
      "cell_type": "code",
      "source": [
        "bool(False)\n",
        "bool(None)\n",
        "bool(0)\n",
        "bool(\"\")\n",
        "bool(())\n",
        "bool([])\n",
        "bool({})"
      ],
      "metadata": {
        "colab": {
          "base_uri": "https://localhost:8080/"
        },
        "id": "j8wjdjzTcb7s",
        "outputId": "5853013f-89c9-431f-fe51-006b73b72e51"
      },
      "execution_count": 20,
      "outputs": [
        {
          "output_type": "execute_result",
          "data": {
            "text/plain": [
              "False"
            ]
          },
          "metadata": {},
          "execution_count": 20
        }
      ]
    },
    {
      "cell_type": "code",
      "source": [
        "print(bool(True))\n",
        "print(bool(False))\n",
        "print(bool(1))\n",
        "print(bool())"
      ],
      "metadata": {
        "colab": {
          "base_uri": "https://localhost:8080/"
        },
        "id": "sgQUFxn1dKMW",
        "outputId": "f4ac5bc5-839d-4186-932e-bba071d4b35a"
      },
      "execution_count": null,
      "outputs": [
        {
          "output_type": "stream",
          "name": "stdout",
          "text": [
            "True\n",
            "False\n",
            "True\n",
            "False\n"
          ]
        }
      ]
    },
    {
      "cell_type": "markdown",
      "source": [
        "- Functions can return a Boolean.\n"
      ],
      "metadata": {
        "id": "SL-zAm90do9A"
      }
    },
    {
      "cell_type": "code",
      "source": [
        "def myFunction():\n",
        "  return True\n",
        "\n",
        "  print(myFunction())"
      ],
      "metadata": {
        "id": "ZO1RoQ0Fd0fI"
      },
      "execution_count": null,
      "outputs": []
    },
    {
      "cell_type": "markdown",
      "source": [
        "- You can execute code based on Boolean answer of a Function"
      ],
      "metadata": {
        "id": "ColgJlk9ebow"
      }
    },
    {
      "cell_type": "code",
      "source": [
        "def myFunction():\n",
        "  return True\n",
        "\n",
        "  if myfunction():\n",
        "    print(\"YES!\")\n",
        "\n",
        "  else:\n",
        "      print(\"NO!\")"
      ],
      "metadata": {
        "id": "t4wSKpk3eitK"
      },
      "execution_count": 22,
      "outputs": []
    },
    {
      "cell_type": "markdown",
      "source": [
        "- Try Comparison Operators"
      ],
      "metadata": {
        "id": "C5oT-AF1gWH3"
      }
    },
    {
      "cell_type": "code",
      "source": [
        "print(10>9)\n",
        "\n",
        "a=6\n",
        "b=7\n",
        "print(a==b)\n",
        "print(a!=a)"
      ],
      "metadata": {
        "colab": {
          "base_uri": "https://localhost:8080/"
        },
        "id": "brHbGZoFhrJg",
        "outputId": "b2dd27a5-42fe-4464-89a9-14174e006348"
      },
      "execution_count": 23,
      "outputs": [
        {
          "output_type": "stream",
          "name": "stdout",
          "text": [
            "True\n",
            "False\n",
            "False\n"
          ]
        }
      ]
    },
    {
      "cell_type": "markdown",
      "source": [
        "Python Operators\n",
        "- Operators are used to perform operations on variable and values\n",
        "- In the example below, we use the + operator to add together two values."
      ],
      "metadata": {
        "id": "NUyCi6YOit0A"
      }
    },
    {
      "cell_type": "code",
      "source": [
        "print(10+5)\n",
        "print(10-5)\n",
        "print(10*5)\n",
        "print(10/5)\n",
        "print(10%5)\n",
        "print(10//5)\n",
        "print(10**5)"
      ],
      "metadata": {
        "colab": {
          "base_uri": "https://localhost:8080/"
        },
        "id": "2xB-6A--jAnh",
        "outputId": "be0780c9-5088-4acc-fb81-aef146b55e74"
      },
      "execution_count": 26,
      "outputs": [
        {
          "output_type": "stream",
          "name": "stdout",
          "text": [
            "15\n",
            "5\n",
            "50\n",
            "2.0\n",
            "0\n",
            "2\n",
            "100000\n"
          ]
        }
      ]
    },
    {
      "cell_type": "markdown",
      "source": [
        "Python Bitwise Operators\n",
        "- Bitwise Operator works on bits and perform bit-by-bit operation. Assume if a=60; and b=13; Now in binary format they will be as follows a= 0011 1100\n",
        "b = 0000 1101"
      ],
      "metadata": {
        "id": "w6gsl67Sjqy2"
      }
    },
    {
      "cell_type": "code",
      "source": [
        "a= 60\n",
        "b= 13\n",
        "\n",
        "print(a&b)\n",
        "print(a|b)\n",
        "print(a^b)\n",
        "print(a<<1)\n",
        "print(a<<2)\n",
        "print(a>>2)"
      ],
      "metadata": {
        "colab": {
          "base_uri": "https://localhost:8080/"
        },
        "id": "Elna3eMQkNwX",
        "outputId": "ae21bfa0-e4c1-4306-fd22-4aae2f01748a"
      },
      "execution_count": 27,
      "outputs": [
        {
          "output_type": "stream",
          "name": "stdout",
          "text": [
            "12\n",
            "61\n",
            "49\n",
            "120\n",
            "240\n",
            "15\n"
          ]
        }
      ]
    },
    {
      "cell_type": "markdown",
      "source": [
        "Python Assignment Operators"
      ],
      "metadata": {
        "id": "Z4gdER4WkkUe"
      }
    },
    {
      "cell_type": "code",
      "source": [
        "#x+=3 Same as x=x+3\n",
        "#x-=3 Same as x=x-3\n",
        "#x*=3 Same as x=x*3\n",
        "#x/=3 Same as x=x/3\n",
        "#x%=3 Same as x=x%3"
      ],
      "metadata": {
        "id": "O0OVkEUZkntn"
      },
      "execution_count": 28,
      "outputs": []
    },
    {
      "cell_type": "code",
      "source": [
        "x=1\n",
        "x+=3\n",
        "\n",
        "print(x)"
      ],
      "metadata": {
        "colab": {
          "base_uri": "https://localhost:8080/"
        },
        "id": "BuCw8Du2lE_P",
        "outputId": "a46275c5-d34f-45dd-a309-0404d1cc44ab"
      },
      "execution_count": 29,
      "outputs": [
        {
          "output_type": "stream",
          "name": "stdout",
          "text": [
            "4\n"
          ]
        }
      ]
    },
    {
      "cell_type": "markdown",
      "source": [
        "Logical Operators"
      ],
      "metadata": {
        "id": "9QCQB14rlO4S"
      }
    },
    {
      "cell_type": "code",
      "source": [
        "y = 60\n",
        "z = 13\n",
        "\n",
        "print(y>z)\n",
        "print(z>y)\n",
        "print(y>z and z>y) #and\n",
        "print(y>z and z<y)\n",
        "print(not(y>z and z>y)) #not\n",
        "print(y>z or z<y) #or"
      ],
      "metadata": {
        "colab": {
          "base_uri": "https://localhost:8080/"
        },
        "id": "gA4gdmLJlSiT",
        "outputId": "4d489ff7-82a9-47af-a374-b2db9bf8b38f"
      },
      "execution_count": 36,
      "outputs": [
        {
          "output_type": "stream",
          "name": "stdout",
          "text": [
            "True\n",
            "False\n",
            "False\n",
            "True\n",
            "True\n",
            "True\n"
          ]
        }
      ]
    },
    {
      "cell_type": "markdown",
      "source": [
        "Identity Operator"
      ],
      "metadata": {
        "id": "gBVzUrQGnAUq"
      }
    },
    {
      "cell_type": "code",
      "source": [
        "print( y is z)\n",
        "print( y is not z)\n"
      ],
      "metadata": {
        "colab": {
          "base_uri": "https://localhost:8080/"
        },
        "id": "8QyVwcKTnGck",
        "outputId": "3d8837c4-d926-4882-8d32-d11ebfadb1b7"
      },
      "execution_count": 37,
      "outputs": [
        {
          "output_type": "stream",
          "name": "stdout",
          "text": [
            "False\n",
            "True\n"
          ]
        }
      ]
    },
    {
      "cell_type": "markdown",
      "source": [
        "Loop Statement"
      ],
      "metadata": {
        "id": "CU-THILnqDox"
      }
    },
    {
      "cell_type": "code",
      "source": [
        "week = [\"Sunday\",\"Monday\",\"Tuesday\",\"Wednesday\",\"Thursday\",\"Friday\",\"Saturday\"]  #Example 1\n",
        "for x in week:\n",
        "  print(x)"
      ],
      "metadata": {
        "colab": {
          "base_uri": "https://localhost:8080/"
        },
        "id": "hpvtY8CSqODH",
        "outputId": "b8af5079-33af-4255-fe2a-de39701c9174"
      },
      "execution_count": 39,
      "outputs": [
        {
          "output_type": "stream",
          "name": "stdout",
          "text": [
            "Sunday\n",
            "Monday\n",
            "Tuesday\n",
            "Wednesday\n",
            "Thursday\n",
            "Friday\n",
            "Saturday\n"
          ]
        }
      ]
    },
    {
      "cell_type": "code",
      "source": [],
      "metadata": {
        "id": "YUf9ubJwr42w"
      },
      "execution_count": null,
      "outputs": []
    },
    {
      "cell_type": "code",
      "source": [
        "week = [\"Sunday\",\"Monday\",\"Tuesday\",\"Wednesday\",\"Thursday\",\"Friday\",\"Saturday\"]  #Example 2\n",
        "for x in week:\n",
        "  print(x)\n",
        "  if x==\"Thursday\":\n",
        "    break"
      ],
      "metadata": {
        "colab": {
          "base_uri": "https://localhost:8080/"
        },
        "outputId": "2c05f6b1-b05f-4e31-a146-ce929cd67b6b",
        "id": "MtFseV-Vr6SQ"
      },
      "execution_count": 40,
      "outputs": [
        {
          "output_type": "stream",
          "name": "stdout",
          "text": [
            "Sunday\n",
            "Monday\n",
            "Tuesday\n",
            "Wednesday\n",
            "Thursday\n"
          ]
        }
      ]
    },
    {
      "cell_type": "code",
      "source": [],
      "metadata": {
        "id": "ftC1-wF0sHw0"
      },
      "execution_count": null,
      "outputs": []
    },
    {
      "cell_type": "code",
      "source": [
        "week = [\"Sunday\",\"Monday\",\"Tuesday\",\"Wednesday\",\"Thursday\",\"Friday\",\"Saturday\"]  #Example 3\n",
        "for x in week:\n",
        "  if x==\"Thursday\":\n",
        "    break\n",
        "  print(x)"
      ],
      "metadata": {
        "colab": {
          "base_uri": "https://localhost:8080/"
        },
        "outputId": "4a5a08d8-967e-4972-f5b0-f9330671547f",
        "id": "IQop6BHisJRN"
      },
      "execution_count": 42,
      "outputs": [
        {
          "output_type": "stream",
          "name": "stdout",
          "text": [
            "Sunday\n",
            "Monday\n",
            "Tuesday\n",
            "Wednesday\n"
          ]
        }
      ]
    },
    {
      "cell_type": "code",
      "source": [
        "for x in \"week\":    #Example 4\n",
        "  print (x)"
      ],
      "metadata": {
        "colab": {
          "base_uri": "https://localhost:8080/"
        },
        "id": "GKrPJWJxsXMC",
        "outputId": "a3b93f40-7293-4b32-b8c4-4490d5fa6b6f"
      },
      "execution_count": 47,
      "outputs": [
        {
          "output_type": "stream",
          "name": "stdout",
          "text": [
            "w\n",
            "e\n",
            "e\n",
            "k\n"
          ]
        }
      ]
    },
    {
      "cell_type": "code",
      "source": [
        "for x in \"week\":\n",
        "\n",
        "  if x == \"Thursday\":\n",
        "   print(x)\n",
        "   break"
      ],
      "metadata": {
        "id": "-ohS01FwvsiB"
      },
      "execution_count": 60,
      "outputs": []
    },
    {
      "cell_type": "code",
      "source": [
        "#the range() Function\n",
        "for x in range(6):\n",
        "  print(x)\n",
        "  for x in range(2,6):\n",
        "    print (x)"
      ],
      "metadata": {
        "colab": {
          "base_uri": "https://localhost:8080/"
        },
        "id": "8x0AsGC-vJ0P",
        "outputId": "76971097-55cf-4029-cf68-bf02eb35e048"
      },
      "execution_count": 62,
      "outputs": [
        {
          "output_type": "stream",
          "name": "stdout",
          "text": [
            "0\n",
            "2\n",
            "3\n",
            "4\n",
            "5\n",
            "1\n",
            "2\n",
            "3\n",
            "4\n",
            "5\n",
            "2\n",
            "2\n",
            "3\n",
            "4\n",
            "5\n",
            "3\n",
            "2\n",
            "3\n",
            "4\n",
            "5\n",
            "4\n",
            "2\n",
            "3\n",
            "4\n",
            "5\n",
            "5\n",
            "2\n",
            "3\n",
            "4\n",
            "5\n"
          ]
        }
      ]
    },
    {
      "cell_type": "code",
      "source": [
        "# Nested Loops\n",
        "\n",
        "adjective =[\"red\",\"big\",\"tasty\"]\n",
        "fruits=[\"apple\",\"banna\",\"cherry\"]\n",
        "\n",
        "for x in adjective:\n",
        "  for y in fruits:\n",
        "    print(x,y)"
      ],
      "metadata": {
        "colab": {
          "base_uri": "https://localhost:8080/"
        },
        "id": "FXruFV96wssg",
        "outputId": "c7cd5202-f5d9-492e-f238-a7efdcb30c5a"
      },
      "execution_count": 61,
      "outputs": [
        {
          "output_type": "stream",
          "name": "stdout",
          "text": [
            "red apple\n",
            "red banna\n",
            "red cherry\n",
            "big apple\n",
            "big banna\n",
            "big cherry\n",
            "tasty apple\n",
            "tasty banna\n",
            "tasty cherry\n"
          ]
        }
      ]
    },
    {
      "cell_type": "code",
      "source": [
        "i = 1\n",
        "while i<6:\n",
        " print(i)\n",
        "i+=1 #i=i+1 Assignment operator"
      ],
      "metadata": {
        "id": "hTar91lex5Ss"
      },
      "execution_count": null,
      "outputs": []
    },
    {
      "cell_type": "code",
      "source": [
        "i = 1            #the break statement\n",
        "while i<6:\n",
        " print(i)\n",
        " if i==3:\n",
        "   break\n",
        " i+=1"
      ],
      "metadata": {
        "colab": {
          "base_uri": "https://localhost:8080/"
        },
        "id": "4WS7DsAwyYVe",
        "outputId": "9a36f9ca-555e-439f-ab56-0ad1b827d2a6"
      },
      "execution_count": 71,
      "outputs": [
        {
          "output_type": "stream",
          "name": "stdout",
          "text": [
            "1\n",
            "2\n",
            "3\n"
          ]
        }
      ]
    },
    {
      "cell_type": "code",
      "source": [
        "i = 0         #continue statement\n",
        "while i<6:\n",
        "  i+=1\n",
        "  if i ==3:\n",
        "    continue\n",
        "    print(i)"
      ],
      "metadata": {
        "id": "ERQ1BVopznsE"
      },
      "execution_count": 75,
      "outputs": []
    },
    {
      "cell_type": "code",
      "source": [
        "i = 1            #else statement\n",
        "while i<6:\n",
        " print(i)\n",
        " i+=1\n",
        "else:\n",
        "  print(\"i is no longer less than 6\")"
      ],
      "metadata": {
        "colab": {
          "base_uri": "https://localhost:8080/"
        },
        "id": "QKcb3lVgyxRh",
        "outputId": "3160ba6f-4e53-4fce-9b53-60a5c14a6e28"
      },
      "execution_count": 73,
      "outputs": [
        {
          "output_type": "stream",
          "name": "stdout",
          "text": [
            "1\n",
            "2\n",
            "3\n",
            "4\n",
            "5\n",
            "i is no longer less than 6\n"
          ]
        }
      ]
    }
  ]
}