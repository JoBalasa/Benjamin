{
  "nbformat": 4,
  "nbformat_minor": 0,
  "metadata": {
    "colab": {
      "provenance": [],
      "authorship_tag": "ABX9TyNqaZMDHccTdgvVscAEyz4P",
      "include_colab_link": true
    },
    "kernelspec": {
      "name": "python3",
      "display_name": "Python 3"
    },
    "language_info": {
      "name": "python"
    }
  },
  "cells": [
    {
      "cell_type": "markdown",
      "metadata": {
        "id": "view-in-github",
        "colab_type": "text"
      },
      "source": [
        "<a href=\"https://colab.research.google.com/github/JoBalasa/CPE009-OOP/blob/main/Hands_on_Activity_6_1.ipynb\" target=\"_parent\"><img src=\"https://colab.research.google.com/assets/colab-badge.svg\" alt=\"Open In Colab\"/></a>"
      ]
    },
    {
      "cell_type": "code",
      "execution_count": 2,
      "metadata": {
        "colab": {
          "base_uri": "https://localhost:8080/"
        },
        "id": "wLTRLzpw3Wyu",
        "outputId": "c8e6d831-0abd-4836-afa9-361a637c7fa0"
      },
      "outputs": [
        {
          "output_type": "stream",
          "name": "stdout",
          "text": [
            "Deposited 200 to savings account.\n",
            "Withdrew 100 from savings account.\n",
            "Account Number: SA123, Balance: 1100\n",
            "Deposited 150 to checking account.\n",
            "Withdrew 700 from checking account.\n",
            "Account Number: CA456, Balance: -50\n",
            "Deposited 500 to business account.\n",
            "Withdrew 3000 from business account.\n",
            "Account Number: BA789, Balance: -500\n"
          ]
        }
      ],
      "source": [
        "from abc import ABC, abstractmethod\n",
        "\n",
        "# Abstract base class (Abstraction)\n",
        "class Account(ABC):\n",
        "    def __init__(self, account_number, balance):\n",
        "        self.__account_number = account_number  # Encapsulated attribute\n",
        "        self.__balance = balance  # Encapsulated attribute\n",
        "\n",
        "    @abstractmethod\n",
        "    def deposit(self, amount):\n",
        "        pass\n",
        "\n",
        "    @abstractmethod\n",
        "    def withdraw(self, amount):\n",
        "        pass\n",
        "\n",
        "    def get_balance(self):\n",
        "        return self.__balance\n",
        "\n",
        "    def _update_balance(self, amount):\n",
        "        self.__balance += amount\n",
        "\n",
        "    def __str__(self):\n",
        "        return f\"Account Number: {self.__account_number}, Balance: {self.__balance}\"\n",
        "\n",
        "# Derived class for Savings Account (Inheritance)\n",
        "class SavingsAccount(Account):\n",
        "    def deposit(self, amount):\n",
        "        if amount > 0:\n",
        "            self._update_balance(amount)\n",
        "            print(f\"Deposited {amount} to savings account.\")\n",
        "        else:\n",
        "            print(\"Deposit amount must be positive.\")\n",
        "\n",
        "    def withdraw(self, amount):\n",
        "        if 0 < amount <= self.get_balance():\n",
        "            self._update_balance(-amount)\n",
        "            print(f\"Withdrew {amount} from savings account.\")\n",
        "        else:\n",
        "            print(\"Insufficient balance or invalid amount.\")\n",
        "\n",
        "# Derived class for Checking Account (Inheritance)\n",
        "class CheckingAccount(Account):\n",
        "    def deposit(self, amount):\n",
        "        if amount > 0:\n",
        "            self._update_balance(amount)\n",
        "            print(f\"Deposited {amount} to checking account.\")\n",
        "        else:\n",
        "            print(\"Deposit amount must be positive.\")\n",
        "\n",
        "    def withdraw(self, amount):\n",
        "        # Checking accounts might have overdraft\n",
        "        if amount > 0:\n",
        "            self._update_balance(-amount)\n",
        "            print(f\"Withdrew {amount} from checking account.\")\n",
        "        else:\n",
        "            print(\"Withdraw amount must be positive.\")\n",
        "\n",
        "# Derived class for Business Account (Inheritance)\n",
        "class BusinessAccount(Account):\n",
        "    def deposit(self, amount):\n",
        "        if amount > 0:\n",
        "            self._update_balance(amount)\n",
        "            print(f\"Deposited {amount} to business account.\")\n",
        "        else:\n",
        "            print(\"Deposit amount must be positive.\")\n",
        "\n",
        "    def withdraw(self, amount):\n",
        "        if amount > 0:\n",
        "            if amount <= self.get_balance() + 1000:  # Overdraft limit\n",
        "                self._update_balance(-amount)\n",
        "                print(f\"Withdrew {amount} from business account.\")\n",
        "            else:\n",
        "                print(\"Exceeded overdraft limit.\")\n",
        "        else:\n",
        "            print(\"Withdraw amount must be positive.\")\n",
        "\n",
        "# Using the classes\n",
        "savings = SavingsAccount(\"SA123\", 1000)\n",
        "savings.deposit(200)\n",
        "savings.withdraw(100)\n",
        "print(savings)  # Output: Account Number: SA123, Balance: 1100\n",
        "\n",
        "checking = CheckingAccount(\"CA456\", 500)\n",
        "checking.deposit(150)\n",
        "checking.withdraw(700)\n",
        "print(checking)  # Output: Account Number: CA456, Balance: -50 (assuming overdraft is allowed)\n",
        "\n",
        "business = BusinessAccount(\"BA789\", 2000)\n",
        "business.deposit(500)\n",
        "business.withdraw(3000)\n",
        "print(business)  # Output: Account Number: BA789, Balance: 500 (2000 + 500 - 3000)"
      ]
    }
  ]
}