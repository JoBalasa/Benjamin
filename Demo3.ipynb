{
  "nbformat": 4,
  "nbformat_minor": 0,
  "metadata": {
    "colab": {
      "provenance": [],
      "authorship_tag": "ABX9TyMsh4W8rdtgHMnw+MkC0oNj",
      "include_colab_link": true
    },
    "kernelspec": {
      "name": "python3",
      "display_name": "Python 3"
    },
    "language_info": {
      "name": "python"
    }
  },
  "cells": [
    {
      "cell_type": "markdown",
      "metadata": {
        "id": "view-in-github",
        "colab_type": "text"
      },
      "source": [
        "<a href=\"https://colab.research.google.com/github/JoBalasa/CPE009-OOP/blob/main/Demo3.ipynb\" target=\"_parent\"><img src=\"https://colab.research.google.com/assets/colab-badge.svg\" alt=\"Open In Colab\"/></a>"
      ]
    },
    {
      "cell_type": "markdown",
      "source": [
        "Conditional Statement in Python"
      ],
      "metadata": {
        "id": "YyEVX-2jNRSb"
      }
    },
    {
      "cell_type": "markdown",
      "source": [
        "If Statement"
      ],
      "metadata": {
        "id": "4YJLRp4ENcyU"
      }
    },
    {
      "cell_type": "code",
      "source": [
        "a = 12\n",
        "b = 100\n",
        "if b > a:\n",
        "  print(\"b is greater than a\")"
      ],
      "metadata": {
        "colab": {
          "base_uri": "https://localhost:8080/"
        },
        "id": "WHAtF4B2N4cU",
        "outputId": "4e6628db-04be-4b06-8a3e-35baee1a781c"
      },
      "execution_count": 1,
      "outputs": [
        {
          "output_type": "stream",
          "name": "stdout",
          "text": [
            "b is greater than a\n"
          ]
        }
      ]
    },
    {
      "cell_type": "markdown",
      "source": [
        "elif statement"
      ],
      "metadata": {
        "id": "12Qnwqn5OJGD"
      }
    },
    {
      "cell_type": "code",
      "source": [
        "a=100\n",
        "b=100\n",
        "if b>a:\n",
        "  print(\"b is greater than a\")\n",
        "elif a==b:\n",
        "  print(\"a and b are equal\")"
      ],
      "metadata": {
        "colab": {
          "base_uri": "https://localhost:8080/"
        },
        "id": "exJ3mkAmQ8l1",
        "outputId": "6766c579-1c6d-46f3-c6e1-50eede65f161"
      },
      "execution_count": 33,
      "outputs": [
        {
          "output_type": "stream",
          "name": "stdout",
          "text": [
            "a and b are equal\n"
          ]
        }
      ]
    },
    {
      "cell_type": "markdown",
      "source": [
        "Else statements"
      ],
      "metadata": {
        "id": "LHGlXInrSC_d"
      }
    },
    {
      "cell_type": "code",
      "source": [
        "a = 200\n",
        "b = 33\n",
        "if b>a:\n",
        "   print(\"b is greater than a\")\n",
        "elif a==b:\n",
        "    print(\"a and b are equal\")\n",
        "else:\n",
        "       print(\"a is greater than b\")\n"
      ],
      "metadata": {
        "colab": {
          "base_uri": "https://localhost:8080/"
        },
        "id": "qOhARY2YSFX8",
        "outputId": "95b30890-1fa6-437f-b98a-0ac2e0938370"
      },
      "execution_count": 26,
      "outputs": [
        {
          "output_type": "stream",
          "name": "stdout",
          "text": [
            "a is greater than b\n"
          ]
        }
      ]
    },
    {
      "cell_type": "markdown",
      "source": [
        "short hand if statement\n"
      ],
      "metadata": {
        "id": "tCtQJUiASu4M"
      }
    },
    {
      "cell_type": "code",
      "source": [
        "if a>b:print(\"a is greater than b\")\n"
      ],
      "metadata": {
        "id": "B7MTXzQQSxt1"
      },
      "execution_count": 15,
      "outputs": []
    },
    {
      "cell_type": "markdown",
      "source": [
        "Short Hand If..Else Statement"
      ],
      "metadata": {
        "id": "fQybj5qPTuZ-"
      }
    },
    {
      "cell_type": "code",
      "source": [
        "a = 2\n",
        "b = 300\n",
        "print(\"A\")if a>b else print(\"B\")"
      ],
      "metadata": {
        "colab": {
          "base_uri": "https://localhost:8080/"
        },
        "id": "r8E5Hm1PT0u0",
        "outputId": "13d8b223-387e-4aab-f643-96b742be577c"
      },
      "execution_count": 20,
      "outputs": [
        {
          "output_type": "stream",
          "name": "stdout",
          "text": [
            "B\n"
          ]
        }
      ]
    },
    {
      "cell_type": "markdown",
      "source": [
        "And Both conditios are true"
      ],
      "metadata": {
        "id": "W6oywI5jUq5F"
      }
    },
    {
      "cell_type": "code",
      "source": [
        "a = 200\n",
        "b = 33\n",
        "c = 500\n",
        "if a > b and c > a:\n",
        "  print (\"Both conditions are True\")"
      ],
      "metadata": {
        "colab": {
          "base_uri": "https://localhost:8080/"
        },
        "id": "r2OwSvOVUv7A",
        "outputId": "4f5981aa-7bb3-4293-e77f-0470c9aa1800"
      },
      "execution_count": 22,
      "outputs": [
        {
          "output_type": "stream",
          "name": "stdout",
          "text": [
            "Both conditions are True\n"
          ]
        }
      ]
    },
    {
      "cell_type": "markdown",
      "source": [
        "Or at least one of the condition is true\n"
      ],
      "metadata": {
        "id": "DsA_wsR2U_Oc"
      }
    },
    {
      "cell_type": "code",
      "source": [
        "a = 200\n",
        "b = 33\n",
        "c = 500\n",
        "if a > b or a > c:\n",
        "  print(\"At least one of the conditions is True\")"
      ],
      "metadata": {
        "colab": {
          "base_uri": "https://localhost:8080/"
        },
        "id": "yM8KjJHQVE1s",
        "outputId": "9b94d6f8-d233-402b-f0ad-30eebf2025fa"
      },
      "execution_count": 23,
      "outputs": [
        {
          "output_type": "stream",
          "name": "stdout",
          "text": [
            "At least one of the conditions is True\n"
          ]
        }
      ]
    },
    {
      "cell_type": "markdown",
      "source": [
        "Nested if"
      ],
      "metadata": {
        "id": "oXl0W1hyVV78"
      }
    },
    {
      "cell_type": "code",
      "source": [
        "x = 41\n",
        "\n",
        "if x > 10:\n",
        "  print (\"Above ten,\")\n",
        "  if x > 20:\n",
        "    print(\"and also above 20!\")\n",
        "else:\n",
        "      print(\"but not above 20.\")\n"
      ],
      "metadata": {
        "colab": {
          "base_uri": "https://localhost:8080/"
        },
        "id": "d2g7PLxdVZmU",
        "outputId": "f82c4192-21cb-47e9-8929-c65851b31fc1"
      },
      "execution_count": 25,
      "outputs": [
        {
          "output_type": "stream",
          "name": "stdout",
          "text": [
            "Above ten,\n",
            "and also above 20!\n"
          ]
        }
      ]
    },
    {
      "cell_type": "markdown",
      "source": [
        "Nested if... else statement"
      ],
      "metadata": {
        "id": "je7PKsCUWs81"
      }
    },
    {
      "cell_type": "code",
      "source": [
        "x = 41\n",
        "if x>10:\n",
        "  print(\"above 10\")\n",
        "  if (x>20):\n",
        "    print(\"and also above 20\")\n",
        "  if (x>30):\n",
        "    print(\"and also above 30\")\n",
        "    if (x>40):\n",
        "      print(\"and also above 40\")\n",
        "    else:\n",
        "        print(\"but not above 40\")\n",
        "  else:\n",
        "      print(\"but not above 30\")\n",
        "else:\n",
        "   print(\"but not above 20\")\n",
        "\n"
      ],
      "metadata": {
        "colab": {
          "base_uri": "https://localhost:8080/"
        },
        "id": "WSHOcHjAYFB8",
        "outputId": "bb5ca688-02a8-4d01-8d7a-313167203f16"
      },
      "execution_count": 62,
      "outputs": [
        {
          "output_type": "stream",
          "name": "stdout",
          "text": [
            "above 10\n",
            "and also above 20\n",
            "and also above 30\n",
            "and also above 40\n"
          ]
        }
      ]
    },
    {
      "cell_type": "code",
      "source": [
        "a = 20\n",
        "b = 10\n",
        "c = 10\n",
        "\n",
        "if (a==b):\n",
        "    if(a==c):\n",
        "        print(\"All numbers are equal\")\n",
        "    else:\n",
        "        print(\"A & B are same, C is different\")\n",
        "elif(a==c):\n",
        "    print(\"A & C are same, B us different\")\n",
        "elif(y==z):\n",
        "    print(\"B and C are same. A is different\")\n",
        "else:\n",
        "    print(\"All numbers are unique\")"
      ],
      "metadata": {
        "colab": {
          "base_uri": "https://localhost:8080/"
        },
        "id": "_7IIIpDdXigV",
        "outputId": "ed17be27-ec2e-45f3-fc4e-e0b02cf05cbf"
      },
      "execution_count": 40,
      "outputs": [
        {
          "output_type": "stream",
          "name": "stdout",
          "text": [
            "B and C are same. A is different\n"
          ]
        }
      ]
    },
    {
      "cell_type": "markdown",
      "source": [
        "Example 1:"
      ],
      "metadata": {
        "id": "P21rZ52Gcr_0"
      }
    },
    {
      "cell_type": "code",
      "source": [
        "age = int(input(\"Enter age : \"))\n",
        "\n",
        "if age >= 18:\n",
        "    print(\"Qualified for Voting!\")\n",
        "else:\n",
        "    print(\"Not Qualified for Voting!\")"
      ],
      "metadata": {
        "colab": {
          "base_uri": "https://localhost:8080/"
        },
        "id": "rrrETU31cVsG",
        "outputId": "977e9d17-87fb-4ec5-d04c-f2991aff6db3"
      },
      "execution_count": 63,
      "outputs": [
        {
          "output_type": "stream",
          "name": "stdout",
          "text": [
            "Enter age : 18\n",
            "Qualified for Voting!\n"
          ]
        }
      ]
    },
    {
      "cell_type": "markdown",
      "source": [
        "Example 2:"
      ],
      "metadata": {
        "id": "aocgYBhFcv6N"
      }
    },
    {
      "cell_type": "code",
      "source": [
        "num = int(input(\"Enter Number : \"))\n",
        "\n",
        "if a > 0:\n",
        "  print(\"Number is Positive\")\n",
        "\n",
        "elif a<0:\n",
        "    print(\"Number is Negative\")\n",
        "\n",
        "else:\n",
        "      print(\"Number is Zero\")"
      ],
      "metadata": {
        "colab": {
          "base_uri": "https://localhost:8080/"
        },
        "id": "IyAJrAFDcxf0",
        "outputId": "29b732dd-be28-4fbe-e8bf-1b7172da8e7b"
      },
      "execution_count": 69,
      "outputs": [
        {
          "output_type": "stream",
          "name": "stdout",
          "text": [
            "Enter Number : 25\n",
            "Number is Positive\n"
          ]
        }
      ]
    },
    {
      "cell_type": "markdown",
      "source": [
        "Example 3:"
      ],
      "metadata": {
        "id": "5UePJAtwerM8"
      }
    },
    {
      "cell_type": "code",
      "source": [
        "a = int(input(\"Enter Grade : \"))\n",
        "\n",
        "if a >=70 and a <=100:\n",
        "  print(\"Passed\")\n",
        "\n",
        "elif a>= 65 and a <=69:\n",
        "    print(\"Remedial\")\n",
        "\n",
        "elif a > 0 and a <65:\n",
        "  print (\"failed\")\n",
        "\n",
        "else:\n",
        "    print(\"invalid grade\")"
      ],
      "metadata": {
        "colab": {
          "base_uri": "https://localhost:8080/"
        },
        "id": "jXbVljfMetC1",
        "outputId": "ba870e30-abf0-496a-e407-329f41771c3f"
      },
      "execution_count": 87,
      "outputs": [
        {
          "output_type": "stream",
          "name": "stdout",
          "text": [
            "Enter Grade : 1\n",
            "failed\n"
          ]
        }
      ]
    }
  ]
}