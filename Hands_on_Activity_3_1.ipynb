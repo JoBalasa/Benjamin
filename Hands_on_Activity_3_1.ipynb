{
  "nbformat": 4,
  "nbformat_minor": 0,
  "metadata": {
    "colab": {
      "provenance": [],
      "authorship_tag": "ABX9TyOA2YnZlnNI0zVENKm8MEM/",
      "include_colab_link": true
    },
    "kernelspec": {
      "name": "python3",
      "display_name": "Python 3"
    },
    "language_info": {
      "name": "python"
    }
  },
  "cells": [
    {
      "cell_type": "markdown",
      "metadata": {
        "id": "view-in-github",
        "colab_type": "text"
      },
      "source": [
        "<a href=\"https://colab.research.google.com/github/JoBalasa/CPE009-OOP/blob/main/Hands_on_Activity_3_1.ipynb\" target=\"_parent\"><img src=\"https://colab.research.google.com/assets/colab-badge.svg\" alt=\"Open In Colab\"/></a>"
      ]
    },
    {
      "cell_type": "code",
      "execution_count": 1,
      "metadata": {
        "colab": {
          "base_uri": "https://localhost:8080/"
        },
        "id": "lW1rczX-Bc2E",
        "outputId": "591bd2f2-e7a4-4ed6-edb0-e8ea6a6bdf20"
      },
      "outputs": [
        {
          "output_type": "stream",
          "name": "stdout",
          "text": [
            "Sequence type:\n",
            "Length: 5\n",
            "First element: 1\n",
            "Last element: 5\n",
            "Slice: [3, 4]\n",
            "\n",
            "Mapping type:\n",
            "Length: 3\n",
            "Value for key 'a': 1\n",
            "Keys: dict_keys(['a', 'b', 'c'])\n",
            "Values: dict_values([1, 2, 3])\n",
            "Items: dict_items([('a', 1), ('b', 2), ('c', 3)])\n"
          ]
        }
      ],
      "source": [
        "# Sequence Type\n",
        "class MySequence:\n",
        "    def __init__(self, elements):\n",
        "        self.elements = elements\n",
        "\n",
        "    def __getitem__(self, index):\n",
        "        return self.elements[index]\n",
        "\n",
        "    def __len__(self):\n",
        "        return len(self.elements)\n",
        "\n",
        "# Mapping Type\n",
        "class MyMapping:\n",
        "    def __init__(self, elements):\n",
        "        self.elements = elements\n",
        "\n",
        "    def __getitem__(self, key):\n",
        "        return self.elements[key]\n",
        "\n",
        "    def __len__(self):\n",
        "        return len(self.elements)\n",
        "\n",
        "    def __iter__(self):\n",
        "        return iter(self.elements)\n",
        "\n",
        "    def keys(self):\n",
        "        return self.elements.keys()\n",
        "\n",
        "    def values(self):\n",
        "        return self.elements.values()\n",
        "\n",
        "    def items(self):\n",
        "        return self.elements.items()\n",
        "\n",
        "# Example usage\n",
        "if __name__ == \"__main__\":\n",
        "    # Sequence\n",
        "    seq = MySequence([1, 2, 3, 4, 5])\n",
        "    print(\"Sequence type:\")\n",
        "    print(\"Length:\", len(seq))\n",
        "    print(\"First element:\", seq[0])\n",
        "    print(\"Last element:\", seq[-1])\n",
        "    print(\"Slice:\", seq[2:4])\n",
        "\n",
        "    # Mapping\n",
        "    mapping = MyMapping({'a': 1, 'b': 2, 'c': 3})\n",
        "    print(\"\\nMapping type:\")\n",
        "    print(\"Length:\", len(mapping))\n",
        "    print(\"Value for key 'a':\", mapping['a'])\n",
        "    print(\"Keys:\", mapping.keys())\n",
        "    print(\"Values:\", mapping.values())\n",
        "    print(\"Items:\", mapping.items())"
      ]
    }
  ]
}