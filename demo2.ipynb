{
  "nbformat": 4,
  "nbformat_minor": 0,
  "metadata": {
    "colab": {
      "provenance": [],
      "authorship_tag": "ABX9TyNtOTLj7/UNKXhe8LByQ4uY",
      "include_colab_link": true
    },
    "kernelspec": {
      "name": "python3",
      "display_name": "Python 3"
    },
    "language_info": {
      "name": "python"
    }
  },
  "cells": [
    {
      "cell_type": "markdown",
      "metadata": {
        "id": "view-in-github",
        "colab_type": "text"
      },
      "source": [
        "<a href=\"https://colab.research.google.com/github/JoBalasa/CPE009-OOP/blob/main/demo2.ipynb\" target=\"_parent\"><img src=\"https://colab.research.google.com/assets/colab-badge.svg\" alt=\"Open In Colab\"/></a>"
      ]
    },
    {
      "cell_type": "code",
      "execution_count": 2,
      "metadata": {
        "colab": {
          "base_uri": "https://localhost:8080/"
        },
        "id": "TDEpsN2WNO48",
        "outputId": "1c7b92c0-c7e3-418a-ab68-c6400028a776"
      },
      "outputs": [
        {
          "output_type": "stream",
          "name": "stdout",
          "text": [
            "50.0\n",
            "150\n"
          ]
        }
      ],
      "source": [
        "num1=50\n",
        "num2=50\n",
        "num3=50\n",
        "sum=num1+num2+num3\n",
        "average = sum/3\n",
        "print(average)\n",
        "print (sum)"
      ]
    },
    {
      "cell_type": "code",
      "source": [
        "print(\"input three grades\")\n",
        "num1 = input()\n",
        "num2 = input()\n",
        "num3 = input()\n",
        "average = (int(num1)+int(num2)+int(num3))/3\n",
        "print (average)\n",
        "\n"
      ],
      "metadata": {
        "colab": {
          "base_uri": "https://localhost:8080/"
        },
        "id": "2TXFf51BUQOg",
        "outputId": "a06bf550-85ba-4aab-cdad-e50ca47ae4c6"
      },
      "execution_count": 14,
      "outputs": [
        {
          "output_type": "stream",
          "name": "stdout",
          "text": [
            "input three grades\n",
            "90\n",
            "85\n",
            "95\n",
            "90.0\n"
          ]
        }
      ]
    }
  ]
}