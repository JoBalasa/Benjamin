{
  "nbformat": 4,
  "nbformat_minor": 0,
  "metadata": {
    "colab": {
      "provenance": [],
      "authorship_tag": "ABX9TyP+O1PYACXdEMZxv1URzzX8",
      "include_colab_link": true
    },
    "kernelspec": {
      "name": "python3",
      "display_name": "Python 3"
    },
    "language_info": {
      "name": "python"
    }
  },
  "cells": [
    {
      "cell_type": "markdown",
      "metadata": {
        "id": "view-in-github",
        "colab_type": "text"
      },
      "source": [
        "<a href=\"https://colab.research.google.com/github/JoBalasa/CPE009-OOP/blob/main/exercise1.ipynb\" target=\"_parent\"><img src=\"https://colab.research.google.com/assets/colab-badge.svg\" alt=\"Open In Colab\"/></a>"
      ]
    },
    {
      "cell_type": "markdown",
      "source": [
        "Algorithm to get the perimeter and area of rectangle\n",
        "\n",
        "1.Start\n",
        "\n",
        "2.Input\n",
        "\n",
        "3.Calculation Area (Input lengh and width)\n",
        "\n",
        "4.Output\n",
        "\n",
        "5.End\n"
      ],
      "metadata": {
        "id": "nxrBkp09gkjO"
      }
    },
    {
      "cell_type": "code",
      "source": [
        "l=int(input(\"Length: \"))\n",
        "w=int(input(\"Width: \"))\n",
        "area=l*w\n",
        "perimeter=2*(l+w)\n",
        "print(\"Area of Rectangle : \",area)\n",
        "print(\"Perimeter of Rectangle : \",perimeter)\n"
      ],
      "metadata": {
        "colab": {
          "base_uri": "https://localhost:8080/"
        },
        "outputId": "4a2cc7b0-9304-4eaf-9a20-1cd8a39732e1",
        "id": "U-O5Li1KgmqF"
      },
      "execution_count": null,
      "outputs": [
        {
          "output_type": "stream",
          "name": "stdout",
          "text": [
            "Length: 12\n",
            "Width: 9\n",
            "Area of Rectangle :  108\n",
            "Perimeter of Rectangle :  42\n"
          ]
        }
      ]
    }
  ]
}