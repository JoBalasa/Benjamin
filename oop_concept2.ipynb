{
  "nbformat": 4,
  "nbformat_minor": 0,
  "metadata": {
    "colab": {
      "provenance": [],
      "authorship_tag": "ABX9TyP99Cfy4swhu+u9kk5ZqOnw",
      "include_colab_link": true
    },
    "kernelspec": {
      "name": "python3",
      "display_name": "Python 3"
    },
    "language_info": {
      "name": "python"
    }
  },
  "cells": [
    {
      "cell_type": "markdown",
      "metadata": {
        "id": "view-in-github",
        "colab_type": "text"
      },
      "source": [
        "<a href=\"https://colab.research.google.com/github/JoBalasa/CPE009-OOP/blob/main/oop_concept2.ipynb\" target=\"_parent\"><img src=\"https://colab.research.google.com/assets/colab-badge.svg\" alt=\"Open In Colab\"/></a>"
      ]
    },
    {
      "cell_type": "markdown",
      "source": [
        "Classes with Multiple Objects\n",
        "\n",
        "Multiple objects for a class can be created while\n",
        "attaching a unique copy of data attributes and methods of\n",
        "the class to each of these object"
      ],
      "metadata": {
        "id": "jthmYSLVcUFv"
      }
    },
    {
      "cell_type": "code",
      "source": [
        "class Birds:\n",
        " def __init__(self, bird_name):\n",
        "   self.bird_name = bird_name\n",
        " def flying_birds(self):\n",
        "   print(f\"{self.bird_name} flies above clouds\")\n",
        " def non_flying_birds(self):\n",
        "  print(f\"{self.bird_name} is the national bird of Philippines\")\n",
        "\n",
        "vulture = Birds(\"Griffon Vulture\")\n",
        "crane = Birds(\"Common Crane\")\n",
        "emu = Birds(\"Emu\")\n",
        "vulture.flying_birds()\n",
        "crane.flying_birds()\n",
        "emu.non_flying_birds()\n"
      ],
      "metadata": {
        "colab": {
          "base_uri": "https://localhost:8080/"
        },
        "id": "JKUq_fVKcYkv",
        "outputId": "a65fa1ac-6d74-4f0f-d855-fb4a04a27d6b"
      },
      "execution_count": 10,
      "outputs": [
        {
          "output_type": "stream",
          "name": "stdout",
          "text": [
            "Griffon Vulture flies above clouds\n",
            "Common Crane flies above clouds\n",
            "Emu is the national bird of Philippines\n"
          ]
        }
      ]
    },
    {
      "cell_type": "markdown",
      "source": [
        "Encapsulation\n",
        "\n",
        "Encapsulation is the process of combining variables\n",
        "that store data and methods that work on those variables\n",
        "into a single unit called class. In Encapsulation, the\n",
        "variables are not accessed directly; it is accessed through\n",
        "the methods present in the class.\n",
        "\n"
      ],
      "metadata": {
        "id": "ONxSyx0DdE_X"
      }
    },
    {
      "cell_type": "code",
      "source": [
        "class foo:\n",
        " def __init__(self, a, b):\n",
        "  self.a = a\n",
        "  self.b = b\n",
        " def add(self):\n",
        "  return self.a + self.b\n",
        "foo_object = foo(3,4)\n",
        "foo_object.add()\n",
        "\n",
        "\n",
        ""
      ],
      "metadata": {
        "colab": {
          "base_uri": "https://localhost:8080/"
        },
        "id": "X6ihMk3-dJJX",
        "outputId": "82008dac-f9c2-4040-d5ec-9b6fe8d42ad6"
      },
      "execution_count": 55,
      "outputs": [
        {
          "output_type": "execute_result",
          "data": {
            "text/plain": [
              "7"
            ]
          },
          "metadata": {},
          "execution_count": 55
        }
      ]
    },
    {
      "cell_type": "code",
      "source": [
        "class Counter:\n",
        " def __init__(self):\n",
        "  self.current = 0\n",
        "def increment(self):\n",
        " self.current += 1\n",
        "def value(self):\n",
        " return self.current\n",
        "def reset(self):\n",
        " self.current = 0\n",
        "\n",
        " counter = Counter()\n",
        " counter.increment()\n",
        " counter.increment()\n",
        " counter.increment()\n",
        " print(counter.value())\n",
        "\n",
        "\n",
        ""
      ],
      "metadata": {
        "id": "6nnIuQkleqYh"
      },
      "execution_count": 81,
      "outputs": []
    },
    {
      "cell_type": "markdown",
      "source": [],
      "metadata": {
        "id": "xe1KKrdvruMV"
      }
    },
    {
      "cell_type": "code",
      "source": [
        "class RegularPolygon:\n",
        "  def __init__(self,side):\n",
        "    self.side = side\n",
        "class Square(RegularPolygon):#inherits the properties of superclass RegularPolygon\n",
        "  def area(self): #defines the method/function to get the area of a square\n",
        "    return self.side * self.side\n",
        "class EquilateralTriangle(RegularPolygon):\n",
        "  def area(self): #defines the method/function to get the area of a equilateral triangle\n",
        "    return self.side * self.side * 0.433\n",
        "\n",
        "square = Square(4) #creates and object name square\n",
        "print(square.area()) #print the instance of the attribute of Square class\n",
        "equiltriangle = EquilateralTriangle(4) #creates and object name equilateral\n",
        "print(equiltriangle.area()) #print the instance of the attribute of equilateral class"
      ],
      "metadata": {
        "colab": {
          "base_uri": "https://localhost:8080/"
        },
        "id": "vcrFffyXm89d",
        "outputId": "ba00e916-4924-40e0-c53c-0de2b7ba8583"
      },
      "execution_count": 90,
      "outputs": [
        {
          "output_type": "stream",
          "name": "stdout",
          "text": [
            "16\n",
            "6.928\n"
          ]
        }
      ]
    },
    {
      "cell_type": "code",
      "source": [
        "class Person:\n",
        "    def __init__(self, std1, std2, std3, pre, mid, fin):\n",
        "        self._std1 = std1\n",
        "        self._std2 = std2\n",
        "        self._std3 = std3\n",
        "        self._pre = pre\n",
        "        self._mid = mid\n",
        "        self._fin = fin\n",
        "\n",
        "    def _average_grade(self, grade1, grade2, grade3):\n",
        "        return (grade1 + grade2 + grade3) / 3\n",
        "\n",
        "    def get_average_grades(self):\n",
        "        pre_avg = self._average_grade(self._pre[0], self._pre[1], self._pre[2])\n",
        "        mid_avg = self._average_grade(self._mid[0], self._mid[1], self._mid[2])\n",
        "        fin_avg = self._average_grade(self._fin[0], self._fin[1], self._fin[2])\n",
        "        return pre_avg, mid_avg, fin_avg\n",
        "\n",
        "    def display_grades(self):\n",
        "        print(\"Student 1 Grades:\", self._std1, self.get_average_grades()[0]) #print average grade of student 1\n",
        "        print(\"Student 2 Grades:\", self._std2, self.get_average_grades()[1]) #print average grade of student 2\n",
        "        print(\"Student 3 Grades:\", self._std3, self.get_average_grades()[2]) #print average grade of student 3\n",
        "\n",
        "person = Person(\"Student 1\", \"Student 2\", \"Student 3\", [85, 85, 95], [85, 85, 90], [86, 88, 92])\n",
        "person.display_grades() # Example usage\n"
      ],
      "metadata": {
        "colab": {
          "base_uri": "https://localhost:8080/"
        },
        "id": "YQnddRSAwzFL",
        "outputId": "22b6d334-a86a-4887-8025-e0f00bcb7d7c"
      },
      "execution_count": 101,
      "outputs": [
        {
          "output_type": "stream",
          "name": "stdout",
          "text": [
            "Student 1 Grades: Student 1 88.33333333333333\n",
            "Student 2 Grades: Student 2 86.66666666666667\n",
            "Student 3 Grades: Student 3 88.66666666666667\n"
          ]
        }
      ]
    }
  ]
}