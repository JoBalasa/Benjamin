{
  "nbformat": 4,
  "nbformat_minor": 0,
  "metadata": {
    "colab": {
      "provenance": [],
      "authorship_tag": "ABX9TyN7zrX6GbvAU/rZtixYVT79",
      "include_colab_link": true
    },
    "kernelspec": {
      "name": "python3",
      "display_name": "Python 3"
    },
    "language_info": {
      "name": "python"
    }
  },
  "cells": [
    {
      "cell_type": "markdown",
      "metadata": {
        "id": "view-in-github",
        "colab_type": "text"
      },
      "source": [
        "<a href=\"https://colab.research.google.com/github/JoBalasa/CPE009-OOP/blob/main/COncepts_Of_OOP.ipynb\" target=\"_parent\"><img src=\"https://colab.research.google.com/assets/colab-badge.svg\" alt=\"Open In Colab\"/></a>"
      ]
    },
    {
      "cell_type": "markdown",
      "source": [
        "What is Object-Oriented Programming?\n",
        "\n",
        "The goal of Object-Oriented Programming\n",
        "(OOP) is to create \"objects.\" An object is a\n",
        "collection of variables and functions that are\n",
        "linked together. These variables are frequently\n",
        "referred to as object attributes, and functions are\n",
        "referred to as object behavior. These objects\n",
        "provide the software a more organized and\n",
        "logical structure, and clear structure of\n",
        "programs"
      ],
      "metadata": {
        "id": "6M2cOvXsh7k4"
      }
    },
    {
      "cell_type": "markdown",
      "source": [
        "OOP vs POP\n",
        "\n",
        "\n",
        "POP\n",
        "• Requires certain\n",
        "procedure of steps\n",
        "• Program is divided into\n",
        "functions with specific\n",
        "task\n",
        "• Suitable for small tasks\n",
        "• Hard to debug\n",
        "• Lack of security\n",
        "\n",
        "\n",
        "OOP\n",
        "• Program consists of\n",
        "objects\n",
        "• Program divides into\n",
        "objects\n",
        "• Entities are bundled up\n",
        "with properties and\n",
        "behavior\n",
        "• Clearer and has less\n",
        "complex structure\n",
        "• Reusable codes\n",
        "\n",
        "Examples:\n",
        "\n",
        "• POP – C, Pascal, Basic\n",
        "\n",
        "• OOP – Java, JavaScript, Scala,\n",
        "PHP, Python"
      ],
      "metadata": {
        "id": "cgO3QpdNiJ0l"
      }
    },
    {
      "cell_type": "markdown",
      "source": [
        "Class\n",
        "\n",
        "A class is a collection of objects. These\n",
        "are data structures that the user defines\n",
        "\n",
        "Syntax:\n",
        "class <class name>:\n",
        "class body\n"
      ],
      "metadata": {
        "id": "-mXf05zbibNO"
      }
    },
    {
      "cell_type": "code",
      "source": [
        "class Car:\n",
        "  pass"
      ],
      "metadata": {
        "id": "HBWukcp_iihV"
      },
      "execution_count": 1,
      "outputs": []
    },
    {
      "cell_type": "markdown",
      "source": [
        "Objects and Object Instantiation\n",
        "\n",
        "• The objector instance contains real data or\n",
        "information.\n",
        "\n",
        "• Instantiation is nothing but creating a new\n",
        "object or instance of a class"
      ],
      "metadata": {
        "id": "LNBu9A2CiscP"
      }
    },
    {
      "cell_type": "code",
      "source": [
        "obj1 = Car( )\n",
        "print(obj1)"
      ],
      "metadata": {
        "colab": {
          "base_uri": "https://localhost:8080/"
        },
        "id": "1r-N4dZviv91",
        "outputId": "75e3d2d4-18de-412e-93cc-38cdcdb993b8"
      },
      "execution_count": 2,
      "outputs": [
        {
          "output_type": "stream",
          "name": "stdout",
          "text": [
            "<__main__.Car object at 0x7d0fdea05150>\n"
          ]
        }
      ]
    },
    {
      "cell_type": "markdown",
      "source": [
        "Class Constructor\n",
        "\n",
        "Now we have an empty class Car, time to fill up\n",
        "our class with the properties of the car. The job\n",
        "of the class constructor is to assign the values to\n",
        "the data members of the class when an object of\n",
        "the class is created"
      ],
      "metadata": {
        "id": "r3vo7iG9i3ql"
      }
    },
    {
      "cell_type": "code",
      "source": [
        "class Car:\n",
        "  def __init__(self,name,color,mileage):\n",
        "     self.name = name\n",
        "     self.color = color\n",
        "     self.mileage = mileage\n",
        "obj1 = Car(\"BMW\", \"Red\", 1000)\n",
        "obj2 = Car(\"Toyota\", \"Blue\", 1200)\n",
        "\n",
        "print(obj1.name)\n",
        "print(obj1.color)\n",
        "print(obj1.mileage)\n",
        "\n",
        "print(obj2.mileage)"
      ],
      "metadata": {
        "colab": {
          "base_uri": "https://localhost:8080/"
        },
        "id": "ozeEz25ui7UN",
        "outputId": "e21aa14a-f65a-4f6e-d5e8-b45dc39a2e9c"
      },
      "execution_count": 45,
      "outputs": [
        {
          "output_type": "stream",
          "name": "stdout",
          "text": [
            "BMW\n",
            "Red\n",
            "1000\n",
            "1200\n"
          ]
        }
      ]
    },
    {
      "cell_type": "markdown",
      "source": [
        "Class Methods\n",
        "\n",
        "Methods are the functions that we use to\n",
        "describe the behavior of the objects. They\n",
        "are also defined inside a class\n"
      ],
      "metadata": {
        "id": "NS0Yt_eCj7Md"
      }
    },
    {
      "cell_type": "code",
      "source": [
        "class Car:\n",
        "  car_type = \"Sedan\"\n",
        "\n",
        "def __init__(self,name,mileage):\n",
        "  self.name = name\n",
        "  self.mileage = mileage\n",
        "\n",
        "def description(self):\n",
        "    return\"The{self.name}car gives the mileage of {self.mileage}km/\"\n",
        "\n",
        "def max_speed(self,speed):\n",
        "    return\"The{self.name}runs at the maximum speed of{speed}km/hr\""
      ],
      "metadata": {
        "id": "SWtwA876kClQ"
      },
      "execution_count": 39,
      "outputs": []
    },
    {
      "cell_type": "markdown",
      "source": [
        "Application 1 -  Write a Python Program that prints your student information with the following attributes: Name, Age, Course, and Section. Use class name Student(), object name as a student"
      ],
      "metadata": {
        "id": "TPY0LcYzn6uG"
      }
    },
    {
      "cell_type": "code",
      "source": [
        "class student:\n",
        "  def __init__(self,name,age,course,section):\n",
        "     self.name = name\n",
        "     self.age = age\n",
        "     self.course = course\n",
        "     self.section = section\n",
        "\n",
        "obj1 = student(\"Benjamin Jo Louise Balasa\", \"19\",\"Computer Engineering\",\"Bscpe s6:\")\n",
        "print(\"The student's name is\",obj1.name)\n",
        "print(\"The student's age is\",obj1.age)\n",
        "print(\"The student's course is\",obj1.course)\n",
        "print(\"The student's section is\",obj1.section)\n",
        "\n",
        "\n"
      ],
      "metadata": {
        "colab": {
          "base_uri": "https://localhost:8080/"
        },
        "id": "bFcMepL-oghP",
        "outputId": "472f1d20-cb34-4cf3-9d81-0f283f33f03c"
      },
      "execution_count": 56,
      "outputs": [
        {
          "output_type": "stream",
          "name": "stdout",
          "text": [
            "The student's name is Benjamin Jo Louise Balasa\n",
            "The student's age is 19\n",
            "The student's course is Computer Engineering\n",
            "The student's section is Bscpe s6:\n"
          ]
        }
      ]
    },
    {
      "cell_type": "code",
      "source": [],
      "metadata": {
        "id": "JOmKRZd5lZT9"
      },
      "execution_count": null,
      "outputs": []
    }
  ]
}